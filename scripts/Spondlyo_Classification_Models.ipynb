{
 "cells": [
  {
   "cell_type": "markdown",
   "metadata": {},
   "source": [
    "## Classfication of Spondylolisthesis - Machine Model Tuning and Testing Results\n",
    "Michelle Ide Updated March 22 2021"
   ]
  },
  {
   "cell_type": "markdown",
   "metadata": {},
   "source": [
    "#### All libraries used in this notebook are contained in the below cell"
   ]
  },
  {
   "cell_type": "code",
   "execution_count": 1,
   "metadata": {
    "ExecuteTime": {
     "end_time": "2021-03-23T15:27:57.464011Z",
     "start_time": "2021-03-23T15:27:56.427594Z"
    }
   },
   "outputs": [],
   "source": [
    "# General data manipulation and graphing\n",
    "import pandas as pd\n",
    "import numpy as np\n",
    "from imblearn.pipeline import make_pipeline, Pipeline\n",
    "import matplotlib.pyplot as plt\n",
    "import seaborn as sns\n",
    "\n",
    "# Models\n",
    "from sklearn.linear_model import LogisticRegression\n",
    "from sklearn.neighbors import KNeighborsClassifier\n",
    "from sklearn.ensemble import RandomForestClassifier, GradientBoostingClassifier\n",
    "from sklearn.naive_bayes import GaussianNB\n",
    "from sklearn.svm import SVC\n",
    "\n",
    "# Hyper Parameter Tuning and Upsampling\n",
    "from sklearn import model_selection\n",
    "from sklearn.model_selection import train_test_split, GridSearchCV, KFold\n",
    "from sklearn.preprocessing import StandardScaler\n",
    "from imblearn.over_sampling import ADASYN, SMOTE\n",
    "from imblearn.combine import SMOTETomek\n",
    "from sklearn.decomposition import PCA\n",
    "\n",
    "# Scoring\n",
    "from sklearn import metrics\n",
    "from sklearn.metrics import f1_score, classification_report, confusion_matrix\n",
    "from sklearn.metrics import roc_curve, roc_auc_score, confusion_matrix, recall_score"
   ]
  },
  {
   "cell_type": "markdown",
   "metadata": {},
   "source": [
    "## Data\n",
    "### Target (Y) and Features (X) are imported  \n",
    "#### cleaning performed in separate notebook \"../EDA/Spondylo_EDA.ipynb\"\n",
    "\n",
    "  \n",
    "    - 309 Records\n",
    "     * 6  Features\n",
    "     * 1  Target\n",
    "     * No Null Values\n",
    "     * Quantitative Values\n",
    "\n",
    "           0 = Normal   (209 total)  \n",
    "           1 = Abnormal (100 total)"
   ]
  },
  {
   "cell_type": "code",
   "execution_count": 2,
   "metadata": {
    "ExecuteTime": {
     "end_time": "2021-03-23T15:27:57.480639Z",
     "start_time": "2021-03-23T15:27:57.465792Z"
    }
   },
   "outputs": [
    {
     "data": {
      "text/html": [
       "<div>\n",
       "<style scoped>\n",
       "    .dataframe tbody tr th:only-of-type {\n",
       "        vertical-align: middle;\n",
       "    }\n",
       "\n",
       "    .dataframe tbody tr th {\n",
       "        vertical-align: top;\n",
       "    }\n",
       "\n",
       "    .dataframe thead th {\n",
       "        text-align: right;\n",
       "    }\n",
       "</style>\n",
       "<table border=\"1\" class=\"dataframe\">\n",
       "  <thead>\n",
       "    <tr style=\"text-align: right;\">\n",
       "      <th></th>\n",
       "      <th>incidence</th>\n",
       "      <th>tilt</th>\n",
       "      <th>angle</th>\n",
       "      <th>slope</th>\n",
       "      <th>radius</th>\n",
       "      <th>degree</th>\n",
       "    </tr>\n",
       "  </thead>\n",
       "  <tbody>\n",
       "    <tr>\n",
       "      <th>0</th>\n",
       "      <td>63.027818</td>\n",
       "      <td>22.552586</td>\n",
       "      <td>39.609117</td>\n",
       "      <td>40.475232</td>\n",
       "      <td>98.672917</td>\n",
       "      <td>-0.254400</td>\n",
       "    </tr>\n",
       "    <tr>\n",
       "      <th>1</th>\n",
       "      <td>39.056951</td>\n",
       "      <td>10.060991</td>\n",
       "      <td>25.015378</td>\n",
       "      <td>28.995960</td>\n",
       "      <td>114.405425</td>\n",
       "      <td>4.564259</td>\n",
       "    </tr>\n",
       "    <tr>\n",
       "      <th>2</th>\n",
       "      <td>68.832021</td>\n",
       "      <td>22.218482</td>\n",
       "      <td>50.092194</td>\n",
       "      <td>46.613539</td>\n",
       "      <td>105.985135</td>\n",
       "      <td>-3.530317</td>\n",
       "    </tr>\n",
       "    <tr>\n",
       "      <th>3</th>\n",
       "      <td>69.297008</td>\n",
       "      <td>24.652878</td>\n",
       "      <td>44.311238</td>\n",
       "      <td>44.644130</td>\n",
       "      <td>101.868495</td>\n",
       "      <td>11.211523</td>\n",
       "    </tr>\n",
       "    <tr>\n",
       "      <th>4</th>\n",
       "      <td>49.712859</td>\n",
       "      <td>9.652075</td>\n",
       "      <td>28.317406</td>\n",
       "      <td>40.060784</td>\n",
       "      <td>108.168725</td>\n",
       "      <td>7.918501</td>\n",
       "    </tr>\n",
       "    <tr>\n",
       "      <th>...</th>\n",
       "      <td>...</td>\n",
       "      <td>...</td>\n",
       "      <td>...</td>\n",
       "      <td>...</td>\n",
       "      <td>...</td>\n",
       "      <td>...</td>\n",
       "    </tr>\n",
       "    <tr>\n",
       "      <th>304</th>\n",
       "      <td>47.903565</td>\n",
       "      <td>13.616688</td>\n",
       "      <td>36.000000</td>\n",
       "      <td>34.286877</td>\n",
       "      <td>117.449062</td>\n",
       "      <td>-4.245395</td>\n",
       "    </tr>\n",
       "    <tr>\n",
       "      <th>305</th>\n",
       "      <td>53.936748</td>\n",
       "      <td>20.721496</td>\n",
       "      <td>29.220534</td>\n",
       "      <td>33.215251</td>\n",
       "      <td>114.365845</td>\n",
       "      <td>-0.421010</td>\n",
       "    </tr>\n",
       "    <tr>\n",
       "      <th>306</th>\n",
       "      <td>61.446597</td>\n",
       "      <td>22.694968</td>\n",
       "      <td>46.170347</td>\n",
       "      <td>38.751628</td>\n",
       "      <td>125.670725</td>\n",
       "      <td>-2.707880</td>\n",
       "    </tr>\n",
       "    <tr>\n",
       "      <th>307</th>\n",
       "      <td>45.252792</td>\n",
       "      <td>8.693157</td>\n",
       "      <td>41.583126</td>\n",
       "      <td>36.559635</td>\n",
       "      <td>118.545842</td>\n",
       "      <td>0.214750</td>\n",
       "    </tr>\n",
       "    <tr>\n",
       "      <th>308</th>\n",
       "      <td>33.841641</td>\n",
       "      <td>5.073991</td>\n",
       "      <td>36.641233</td>\n",
       "      <td>28.767649</td>\n",
       "      <td>123.945244</td>\n",
       "      <td>-0.199249</td>\n",
       "    </tr>\n",
       "  </tbody>\n",
       "</table>\n",
       "<p>309 rows × 6 columns</p>\n",
       "</div>"
      ],
      "text/plain": [
       "     incidence       tilt      angle      slope      radius     degree\n",
       "0    63.027818  22.552586  39.609117  40.475232   98.672917  -0.254400\n",
       "1    39.056951  10.060991  25.015378  28.995960  114.405425   4.564259\n",
       "2    68.832021  22.218482  50.092194  46.613539  105.985135  -3.530317\n",
       "3    69.297008  24.652878  44.311238  44.644130  101.868495  11.211523\n",
       "4    49.712859   9.652075  28.317406  40.060784  108.168725   7.918501\n",
       "..         ...        ...        ...        ...         ...        ...\n",
       "304  47.903565  13.616688  36.000000  34.286877  117.449062  -4.245395\n",
       "305  53.936748  20.721496  29.220534  33.215251  114.365845  -0.421010\n",
       "306  61.446597  22.694968  46.170347  38.751628  125.670725  -2.707880\n",
       "307  45.252792   8.693157  41.583126  36.559635  118.545842   0.214750\n",
       "308  33.841641   5.073991  36.641233  28.767649  123.945244  -0.199249\n",
       "\n",
       "[309 rows x 6 columns]"
      ]
     },
     "execution_count": 2,
     "metadata": {},
     "output_type": "execute_result"
    }
   ],
   "source": [
    "X = pd.read_csv('../Data/X.csv')                 # Import Features\n",
    "Y = np.ravel(pd.read_csv('../Data/Y.csv'))       # Import and Reshape Target\n",
    "X"
   ]
  },
  {
   "cell_type": "markdown",
   "metadata": {},
   "source": [
    "## Split Data\n",
    "### Performed a Train-Test Split, <i>stratified</i> to address imbalanced dataset, with 30% Test Set"
   ]
  },
  {
   "cell_type": "code",
   "execution_count": 3,
   "metadata": {
    "ExecuteTime": {
     "end_time": "2021-03-23T15:27:57.491708Z",
     "start_time": "2021-03-23T15:27:57.482773Z"
    }
   },
   "outputs": [],
   "source": [
    "X_train, X_test, y_train, y_test = train_test_split(\n",
    "    X, Y, test_size=0.3, stratify=Y,\n",
    "    random_state=88)                               # Stratified, 30% test set\n",
    "\n",
    "std_scale = StandardScaler()                       # Scale the quantitative features\n",
    "X_train_scaled = std_scale.fit_transform(X_train)\n",
    "X_test_scaled = std_scale.transform(X_test)"
   ]
  },
  {
   "cell_type": "markdown",
   "metadata": {},
   "source": [
    "## Feature Correlation\n",
    "### Examamine Feature Correlations with Seaborn Correlation plot"
   ]
  },
  {
   "cell_type": "code",
   "execution_count": 4,
   "metadata": {
    "ExecuteTime": {
     "end_time": "2021-03-23T15:27:57.776566Z",
     "start_time": "2021-03-23T15:27:57.773225Z"
    }
   },
   "outputs": [],
   "source": [
    "def plotCorr(data):\n",
    "    corr = data.corr()\n",
    "    ax = sns.heatmap(corr,\n",
    "                     vmin=-1,\n",
    "                     vmax=1,\n",
    "                     center=0,\n",
    "                     cmap=sns.diverging_palette(200, 20, n=500),\n",
    "                     square=True,\n",
    "                     annot=True)\n",
    "    ax.set_xticklabels(ax.get_xticklabels(),\n",
    "                       rotation=45,\n",
    "                       horizontalalignment='right')"
   ]
  },
  {
   "cell_type": "code",
   "execution_count": 5,
   "metadata": {
    "ExecuteTime": {
     "end_time": "2021-03-23T15:27:58.367539Z",
     "start_time": "2021-03-23T15:27:58.014112Z"
    }
   },
   "outputs": [
    {
     "data": {
      "image/png": "[encoded data removed]",
      "text/plain": [
       "<Figure size 432x288 with 2 Axes>"
      ]
     },
     "metadata": {
      "needs_background": "light"
     },
     "output_type": "display_data"
    }
   ],
   "source": [
    "plotCorr(X_train)"
   ]
  },
  {
   "cell_type": "markdown",
   "metadata": {},
   "source": [
    "### High correlation between some features:  Perform PCA Reduction  Selecting 99% as the variance setting."
   ]
  },
  {
   "cell_type": "code",
   "execution_count": 6,
   "metadata": {
    "ExecuteTime": {
     "end_time": "2021-03-23T15:27:58.541261Z",
     "start_time": "2021-03-23T15:27:58.534694Z"
    }
   },
   "outputs": [],
   "source": [
    "pca = PCA(n_components=0.99)                   # Choose components that explain 99% of variance\n",
    "X_train = pca.fit_transform(X_train_scaled)\n",
    "X_test = pca.transform(X_test_scaled)\n",
    "ps = pd.DataFrame(X_train)"
   ]
  },
  {
   "cell_type": "code",
   "execution_count": 7,
   "metadata": {
    "ExecuteTime": {
     "end_time": "2021-03-23T15:27:58.962100Z",
     "start_time": "2021-03-23T15:27:58.741197Z"
    }
   },
   "outputs": [
    {
     "data": {
      "image/png": "[encoded data removed]",
      "text/plain": [
       "<Figure size 432x288 with 2 Axes>"
      ]
     },
     "metadata": {
      "needs_background": "light"
     },
     "output_type": "display_data"
    }
   ],
   "source": [
    "plotCorr(ps)"
   ]
  },
  {
   "cell_type": "markdown",
   "metadata": {},
   "source": [
    "### Machine Modeling\n",
    "\n",
    "Below, 6 Models are tuned and tested.  Selected for their strengths in classification of supervised data and differences in modeling methods, all were given various hyper parameters for testing along with two upsampling techniques to determine the best parameters and upsampling for each model.\n",
    "\n",
    "Upsampling techniques, SMOTE-TL was selected due to it's high performance during research testing as reported by.... ADASYN was tested due to it's ability to separate boundry data through amplification of the weight in these areas.\n",
    "\n",
    "Each model tested returned the best hyper parameters for the model with accuracy scores on each upsampling technique including:\n",
    "- ROC AUC\n",
    "- Confution Matrix\n",
    "- Recall\n",
    "- Precision\n",
    "- Accuracy\n",
    "- F1\n",
    "\n",
    "For our purposes the Confusion Matrix, Recall, and Precision were used in determining the best model.  Accuracy and F1 were for overall comparisons and included for observations, not for determining best overall performance."
   ]
  },
  {
   "cell_type": "markdown",
   "metadata": {},
   "source": [
    "### Testing was performed with the following Functions:\n",
    "- gridSearchCV - performs hyper parameter tuning while testing upsampling methods\n",
    "\n",
    "- m_predictions - performs the gridsearch\n",
    "\n",
    "- generate_roc - calculates the predict_proba for potting graphs\n",
    "\n",
    "- plot_roc - plots AUC ROC graph of best performing hyper parameters\n",
    "\n",
    "- plot_confusion - plots a confusion matrix when appropriate"
   ]
  },
  {
   "cell_type": "code",
   "execution_count": 8,
   "metadata": {
    "ExecuteTime": {
     "end_time": "2021-03-23T15:27:59.562018Z",
     "start_time": "2021-03-23T15:27:59.555735Z"
    }
   },
   "outputs": [],
   "source": [
    "# HYPER PARAMETER TUNING\n",
    "\n",
    "\n",
    "def gridSearchCV(model,\n",
    "                 param_grid,\n",
    "                 X_train,\n",
    "                 X_Test,\n",
    "                 y_train,\n",
    "                 y_test,\n",
    "                 df_all,\n",
    "                 graph=1):\n",
    "\n",
    "    # Loop thorugh upsampling methods\n",
    "    upsamples = ['SMOTE-TL', 'ADASYN']\n",
    "    df_all = pd.DataFrame(columns={'Model', 'Method', 'Score'})\n",
    "    for u in upsamples:\n",
    "        print(\"\\n\\n\\n\", u)\n",
    "        if u == 'SMOTE-TL':\n",
    "            upsample = SMOTETomek(random_state=88)\n",
    "        if u == 'ADASYN':\n",
    "            upsample = ADASYN(random_state=88)\n",
    "\n",
    "        # Call gridsearch function\n",
    "        test_score, grid, predictions = m_predictions(upsample, model,\n",
    "                                                      param_grid, X_train,\n",
    "                                                      y_train, X_test, y_test)\n",
    "        # Store scoring results\n",
    "        newrow = {'Model': model, \"Method\": u, \"Score\": test_score}\n",
    "        df_all = df_all.append(newrow, ignore_index=True)\n",
    "\n",
    "        # ROC\n",
    "        if graph == 1:\n",
    "            generate_roc(X_test, y_test, graph, grid)\n",
    "            plt.show()\n",
    "\n",
    "        # Confusion Matrix\n",
    "        plot_confusion(y_test, predictions)\n",
    "        plt.show()\n",
    "\n",
    "        # Classification Report\n",
    "        report = (classification_report(y_test, predictions, output_dict=True))\n",
    "        print(classification_report(y_test, predictions))\n",
    "\n",
    "        # Print parameters\n",
    "        print(\"Best Parameters: \", grid.best_params_)\n",
    "\n",
    "    # Return scores\n",
    "    return df_all"
   ]
  },
  {
   "cell_type": "code",
   "execution_count": 9,
   "metadata": {
    "ExecuteTime": {
     "end_time": "2021-03-23T15:27:59.792760Z",
     "start_time": "2021-03-23T15:27:59.788689Z"
    }
   },
   "outputs": [],
   "source": [
    "# MODEL PREDICTIONS\n",
    "\n",
    "\n",
    "def m_predictions(upsample, model, param_grid, X_train_scaled, y_train,\n",
    "                  X_test_scaled, y_test):\n",
    "\n",
    "    # Fold used for GridSearchCV\n",
    "    kf = KFold(n_splits=5, shuffle=False)\n",
    "\n",
    "    # Create pipeline\n",
    "    pipeline = Pipeline([('sampling', upsample), ('class', model)])\n",
    "\n",
    "    # Gridsearch - fit - predict\n",
    "    grid = GridSearchCV(pipeline, param_grid, scoring='accuracy', cv=kf)\n",
    "    grid.fit(X_train_scaled, y_train)\n",
    "    predictions = grid.predict(X_test_scaled)\n",
    "    \n",
    "    # Test\n",
    "    test_score = grid.score(X_test_scaled, y_test)\n",
    "    \n",
    "    # Return Scores, grid, and predictions for use in reports and graphs\n",
    "    return test_score, grid, predictions"
   ]
  },
  {
   "cell_type": "code",
   "execution_count": 10,
   "metadata": {
    "ExecuteTime": {
     "end_time": "2021-03-23T15:28:00.175759Z",
     "start_time": "2021-03-23T15:28:00.172771Z"
    }
   },
   "outputs": [],
   "source": [
    "# Generate ROC\n",
    "\n",
    "def generate_roc(X_test_scaled, y_test, graph, grid):\n",
    "    proba_predict = grid.predict_proba(X_test_scaled)\n",
    "    preds = proba_predict[:, 1]\n",
    "    plot_ROC(grid, preds, X_test_scaled, y_test, graph=graph)  # Plot ROC graph"
   ]
  },
  {
   "cell_type": "code",
   "execution_count": 11,
   "metadata": {
    "ExecuteTime": {
     "end_time": "2021-03-23T15:28:00.443063Z",
     "start_time": "2021-03-23T15:28:00.439375Z"
    }
   },
   "outputs": [],
   "source": [
    "# Plots the ROC\n",
    "\n",
    "def plot_ROC(model, probs, test_features, test_target, graph=1):\n",
    "    if graph == 1:\n",
    "        print(\"area under curve (auc): \", metrics.roc_auc_score(y_test, probs))\n",
    "        fpr, tpr, thresholds = roc_curve(test_target, probs)\n",
    "        plt.plot([0, 1], [0, 1], linestyle='--')\n",
    "        plt.plot(fpr, tpr)"
   ]
  },
  {
   "cell_type": "code",
   "execution_count": 12,
   "metadata": {
    "ExecuteTime": {
     "end_time": "2021-03-23T15:28:00.867383Z",
     "start_time": "2021-03-23T15:28:00.864299Z"
    }
   },
   "outputs": [],
   "source": [
    "# Plots confusion matrix of model\n",
    "\n",
    "def plot_confusion(y_test, pred):\n",
    "    mat = confusion_matrix(y_test, pred)\n",
    "    sns.heatmap(mat.T, square=True, annot=True, fmt='d', cbar=False)\n",
    "    plt.xlabel('true label')\n",
    "    plt.ylabel('predicted label')"
   ]
  },
  {
   "cell_type": "code",
   "execution_count": 13,
   "metadata": {
    "ExecuteTime": {
     "end_time": "2021-03-23T15:28:01.239174Z",
     "start_time": "2021-03-23T15:28:01.235126Z"
    }
   },
   "outputs": [],
   "source": [
    "score_sum = pd.DataFrame(columns = {'Model', 'Method', 'Score'})       # df will collect all accuracy scores"
   ]
  },
  {
   "cell_type": "markdown",
   "metadata": {},
   "source": [
    "### Test Steps : \n",
    "\n",
    " 1. Hyper Parameters to be tested placed in dictionary for gridSearch\n",
    " 2. Perform GridSearch on parameter grid - returns scores for each upsampling method, prints all scores\n",
    " 3. Store accuracy scores for each model & upsampling method in dataframe named 'score_sum'"
   ]
  },
  {
   "cell_type": "markdown",
   "metadata": {},
   "source": [
    "### LOGISTIC REGRESSION"
   ]
  },
  {
   "cell_type": "code",
   "execution_count": 14,
   "metadata": {
    "ExecuteTime": {
     "end_time": "2021-03-23T15:28:03.909742Z",
     "start_time": "2021-03-23T15:28:02.575643Z"
    }
   },
   "outputs": [
    {
     "name": "stdout",
     "output_type": "stream",
     "text": [
      "\n",
      "\n",
      "\n",
      " SMOTE-TL\n",
      "area under curve (auc):  0.9507936507936507\n"
     ]
    },
    {
     "data": {
      "image/png": "[encoded data removed]",
      "text/plain": [
       "<Figure size 432x288 with 1 Axes>"
      ]
     },
     "metadata": {
      "needs_background": "light"
     },
     "output_type": "display_data"
    },
    {
     "data": {
      "image/png": "[encoded data removed]",
      "text/plain": [
       "<Figure size 432x288 with 1 Axes>"
      ]
     },
     "metadata": {
      "needs_background": "light"
     },
     "output_type": "display_data"
    },
    {
     "name": "stdout",
     "output_type": "stream",
     "text": [
      "              precision    recall  f1-score   support\n",
      "\n",
      "           0       0.98      0.89      0.93        63\n",
      "           1       0.81      0.97      0.88        30\n",
      "\n",
      "    accuracy                           0.91        93\n",
      "   macro avg       0.89      0.93      0.91        93\n",
      "weighted avg       0.93      0.91      0.92        93\n",
      "\n",
      "Best Parameters:  {'class__C': 10, 'class__penalty': 'l2', 'class__solver': 'newton-cg'}\n",
      "\n",
      "\n",
      "\n",
      " ADASYN\n",
      "area under curve (auc):  0.9560846560846561\n"
     ]
    },
    {
     "data": {
      "image/png": "[encoded data removed]",
      "text/plain": [
       "<Figure size 432x288 with 1 Axes>"
      ]
     },
     "metadata": {
      "needs_background": "light"
     },
     "output_type": "display_data"
    },
    {
     "data": {
      "image/png": "[encoded data removed]",
      "text/plain": [
       "<Figure size 432x288 with 1 Axes>"
      ]
     },
     "metadata": {
      "needs_background": "light"
     },
     "output_type": "display_data"
    },
    {
     "name": "stdout",
     "output_type": "stream",
     "text": [
      "              precision    recall  f1-score   support\n",
      "\n",
      "           0       1.00      0.84      0.91        63\n",
      "           1       0.75      1.00      0.86        30\n",
      "\n",
      "    accuracy                           0.89        93\n",
      "   macro avg       0.88      0.92      0.89        93\n",
      "weighted avg       0.92      0.89      0.90        93\n",
      "\n",
      "Best Parameters:  {'class__C': 10, 'class__penalty': 'l2', 'class__solver': 'newton-cg'}\n"
     ]
    }
   ],
   "source": [
    "# Hyper Parameters to be tested placed in dictionary for gridSearch\n",
    "solvers = ['newton-cg', 'lbfgs', 'liblinear', 'sag']\n",
    "penalty = ['l2']\n",
    "c_values = [0.001, 0.01, 0.1, 1, 10]\n",
    "random_grid = {\n",
    "    'class__solver': solvers,\n",
    "    'class__penalty': penalty,\n",
    "    'class__C': c_values\n",
    "}\n",
    "\n",
    "# Perform GridSearch on parameter grid\n",
    "lg_all_scores = gridSearchCV(LogisticRegression(random_state=42),\n",
    "                             random_grid,\n",
    "                             X_train,\n",
    "                             X_test_scaled,\n",
    "                             y_train,\n",
    "                             y_test,\n",
    "                             score_sum,\n",
    "                             graph=1)\n",
    "\n",
    "# Add the scores\n",
    "score_sum = score_sum.append(lg_all_scores)"
   ]
  },
  {
   "cell_type": "code",
   "execution_count": 15,
   "metadata": {
    "ExecuteTime": {
     "end_time": "2021-03-23T15:28:03.915853Z",
     "start_time": "2021-03-23T15:28:03.911376Z"
    }
   },
   "outputs": [
    {
     "name": "stdout",
     "output_type": "stream",
     "text": [
      "                                 Model    Method     Score\n",
      "0  LogisticRegression(random_state=42)  SMOTE-TL  0.913978\n",
      "1  LogisticRegression(random_state=42)    ADASYN  0.892473\n"
     ]
    }
   ],
   "source": [
    "print(score_sum)"
   ]
  },
  {
   "cell_type": "markdown",
   "metadata": {},
   "source": [
    "## GRADIENT BOOSTING CLASSIFIER"
   ]
  },
  {
   "cell_type": "code",
   "execution_count": 16,
   "metadata": {
    "ExecuteTime": {
     "end_time": "2021-03-23T15:38:33.464357Z",
     "start_time": "2021-03-23T15:28:04.007084Z"
    }
   },
   "outputs": [
    {
     "name": "stdout",
     "output_type": "stream",
     "text": [
      "\n",
      "\n",
      "\n",
      " SMOTE-TL\n",
      "area under curve (auc):  0.9380952380952381\n"
     ]
    },
    {
     "data": {
      "image/png": "[encoded data removed]",
      "text/plain": [
       "<Figure size 432x288 with 1 Axes>"
      ]
     },
     "metadata": {
      "needs_background": "light"
     },
     "output_type": "display_data"
    },
    {
     "data": {
      "image/png": "[encoded data removed]",
      "text/plain": [
       "<Figure size 432x288 with 1 Axes>"
      ]
     },
     "metadata": {
      "needs_background": "light"
     },
     "output_type": "display_data"
    },
    {
     "name": "stdout",
     "output_type": "stream",
     "text": [
      "              precision    recall  f1-score   support\n",
      "\n",
      "           0       0.90      0.87      0.89        63\n",
      "           1       0.75      0.80      0.77        30\n",
      "\n",
      "    accuracy                           0.85        93\n",
      "   macro avg       0.83      0.84      0.83        93\n",
      "weighted avg       0.85      0.85      0.85        93\n",
      "\n",
      "Best Parameters:  {'class__criterion': 'friedman_mse', 'class__learning_rate': 0.2, 'class__loss': 'exponential', 'class__n_estimators': 36}\n",
      "\n",
      "\n",
      "\n",
      " ADASYN\n",
      "area under curve (auc):  0.9058201058201059\n"
     ]
    },
    {
     "data": {
      "image/png": "[encoded data removed]",
      "text/plain": [
       "<Figure size 432x288 with 1 Axes>"
      ]
     },
     "metadata": {
      "needs_background": "light"
     },
     "output_type": "display_data"
    },
    {
     "data": {
      "image/png": "[encoded data removed]",
      "text/plain": [
       "<Figure size 432x288 with 1 Axes>"
      ]
     },
     "metadata": {
      "needs_background": "light"
     },
     "output_type": "display_data"
    },
    {
     "name": "stdout",
     "output_type": "stream",
     "text": [
      "              precision    recall  f1-score   support\n",
      "\n",
      "           0       0.88      0.81      0.84        63\n",
      "           1       0.66      0.77      0.71        30\n",
      "\n",
      "    accuracy                           0.80        93\n",
      "   macro avg       0.77      0.79      0.78        93\n",
      "weighted avg       0.81      0.80      0.80        93\n",
      "\n",
      "Best Parameters:  {'class__criterion': 'friedman_mse', 'class__learning_rate': 0.8, 'class__loss': 'exponential', 'class__n_estimators': 51}\n"
     ]
    }
   ],
   "source": [
    "# Hyper Parameters to be tested placed in dictionary for gridSearch\n",
    "loss = ['deviance', 'exponential']\n",
    "lr = [0.1, 0.2, 0.3, 0.4, 0.5, 0.6, 0.7, 0.8, 0.9, 1]\n",
    "ne = range(1, 100, 5)\n",
    "cr = ['friedman_mse', 'mse', 'mae']\n",
    "random_grid = {\n",
    "    'class__loss': loss,\n",
    "    'class__learning_rate': lr,\n",
    "    'class__n_estimators': ne,\n",
    "    'class__criterion': cr\n",
    "}\n",
    "\n",
    "# Perform GridSearch on parameter grid\n",
    "gb_all_score = gridSearchCV(GradientBoostingClassifier(random_state=42),\n",
    "                            random_grid, X_train, X_test, y_train, y_test,\n",
    "                            score_sum)\n",
    "\n",
    "# Add the scores to summary\n",
    "score_sum = score_sum.append(gb_all_score)"
   ]
  },
  {
   "cell_type": "code",
   "execution_count": 17,
   "metadata": {
    "ExecuteTime": {
     "end_time": "2021-03-23T15:38:33.471927Z",
     "start_time": "2021-03-23T15:38:33.466184Z"
    }
   },
   "outputs": [
    {
     "name": "stdout",
     "output_type": "stream",
     "text": [
      "                                         Model    Method     Score\n",
      "0          LogisticRegression(random_state=42)  SMOTE-TL  0.913978\n",
      "1          LogisticRegression(random_state=42)    ADASYN  0.892473\n",
      "0  GradientBoostingClassifier(random_state=42)  SMOTE-TL  0.849462\n",
      "1  GradientBoostingClassifier(random_state=42)    ADASYN  0.795699\n",
      "0  GradientBoostingClassifier(random_state=42)  SMOTE-TL  0.849462\n",
      "1  GradientBoostingClassifier(random_state=42)    ADASYN  0.795699\n"
     ]
    }
   ],
   "source": [
    "score_sum = score_sum.append(gb_all_score)\n",
    "print(score_sum)"
   ]
  },
  {
   "cell_type": "markdown",
   "metadata": {},
   "source": [
    "## SUPPORT VECTOR MACHINE"
   ]
  },
  {
   "cell_type": "code",
   "execution_count": 18,
   "metadata": {
    "ExecuteTime": {
     "end_time": "2021-03-23T15:38:34.807764Z",
     "start_time": "2021-03-23T15:38:33.474389Z"
    }
   },
   "outputs": [
    {
     "name": "stdout",
     "output_type": "stream",
     "text": [
      "\n",
      "\n",
      "\n",
      " SMOTE-TL\n"
     ]
    },
    {
     "data": {
      "image/png": "[encoded data removed]",
      "text/plain": [
       "<Figure size 432x288 with 1 Axes>"
      ]
     },
     "metadata": {
      "needs_background": "light"
     },
     "output_type": "display_data"
    },
    {
     "name": "stdout",
     "output_type": "stream",
     "text": [
      "              precision    recall  f1-score   support\n",
      "\n",
      "           0       0.93      0.89      0.91        63\n",
      "           1       0.79      0.87      0.83        30\n",
      "\n",
      "    accuracy                           0.88        93\n",
      "   macro avg       0.86      0.88      0.87        93\n",
      "weighted avg       0.89      0.88      0.88        93\n",
      "\n",
      "Best Parameters:  {'class__C': 1000, 'class__gamma': 0.01, 'class__kernel': 'rbf'}\n",
      "\n",
      "\n",
      "\n",
      " ADASYN\n"
     ]
    },
    {
     "data": {
      "image/png": "[encoded data removed]",
      "text/plain": [
       "<Figure size 432x288 with 1 Axes>"
      ]
     },
     "metadata": {
      "needs_background": "light"
     },
     "output_type": "display_data"
    },
    {
     "name": "stdout",
     "output_type": "stream",
     "text": [
      "              precision    recall  f1-score   support\n",
      "\n",
      "           0       0.93      0.83      0.87        63\n",
      "           1       0.70      0.87      0.78        30\n",
      "\n",
      "    accuracy                           0.84        93\n",
      "   macro avg       0.82      0.85      0.83        93\n",
      "weighted avg       0.86      0.84      0.84        93\n",
      "\n",
      "Best Parameters:  {'class__C': 10, 'class__gamma': 0.1, 'class__kernel': 'rbf'}\n"
     ]
    }
   ],
   "source": [
    "param_grid = {\n",
    "    'class__C': [0.1, 1, 10, 100, 1000],\n",
    "    'class__gamma': [1, 0.1, 0.01, 0.001, 0.0001],\n",
    "    'class__kernel': ['rbf']\n",
    "}\n",
    "\n",
    "# Perform GridSearch on parameter grid\n",
    "svm_all_scores = gridSearchCV(SVC(random_state=42),\n",
    "                              param_grid,\n",
    "                              X_train,\n",
    "                              X_test,\n",
    "                              y_train,\n",
    "                              y_test,\n",
    "                              score_sum,\n",
    "                              graph=2)\n",
    "# Add the scores to summary0\n",
    "score_sum = score_sum.append(svm_all_scores)"
   ]
  },
  {
   "cell_type": "markdown",
   "metadata": {},
   "source": [
    "## RANDOM FOREST CLASSIFIER"
   ]
  },
  {
   "cell_type": "code",
   "execution_count": 19,
   "metadata": {
    "ExecuteTime": {
     "end_time": "2021-03-23T16:14:22.022781Z",
     "start_time": "2021-03-23T15:38:34.809706Z"
    }
   },
   "outputs": [
    {
     "name": "stdout",
     "output_type": "stream",
     "text": [
      "\n",
      "\n",
      "\n",
      " SMOTE-TL\n",
      "area under curve (auc):  0.8500000000000001\n"
     ]
    },
    {
     "data": {
      "image/png": "[encoded data removed]",
      "text/plain": [
       "<Figure size 432x288 with 1 Axes>"
      ]
     },
     "metadata": {
      "needs_background": "light"
     },
     "output_type": "display_data"
    },
    {
     "data": {
      "image/png": "[encoded data removed]",
      "text/plain": [
       "<Figure size 432x288 with 1 Axes>"
      ]
     },
     "metadata": {
      "needs_background": "light"
     },
     "output_type": "display_data"
    },
    {
     "name": "stdout",
     "output_type": "stream",
     "text": [
      "              precision    recall  f1-score   support\n",
      "\n",
      "           0       0.85      0.83      0.84        63\n",
      "           1       0.66      0.70      0.68        30\n",
      "\n",
      "    accuracy                           0.78        93\n",
      "   macro avg       0.75      0.76      0.76        93\n",
      "weighted avg       0.79      0.78      0.79        93\n",
      "\n",
      "Best Parameters:  {'class__criterion': 'entropy', 'class__max_depth': 7, 'class__min_samples_leaf': 5, 'class__n_estimators': 4}\n",
      "\n",
      "\n",
      "\n",
      " ADASYN\n",
      "area under curve (auc):  0.8566137566137566\n"
     ]
    },
    {
     "data": {
      "image/png": "[encoded data removed]",
      "text/plain": [
       "<Figure size 432x288 with 1 Axes>"
      ]
     },
     "metadata": {
      "needs_background": "light"
     },
     "output_type": "display_data"
    },
    {
     "data": {
      "image/png": "[encoded data removed]",
      "text/plain": [
       "<Figure size 432x288 with 1 Axes>"
      ]
     },
     "metadata": {
      "needs_background": "light"
     },
     "output_type": "display_data"
    },
    {
     "name": "stdout",
     "output_type": "stream",
     "text": [
      "              precision    recall  f1-score   support\n",
      "\n",
      "           0       0.87      0.83      0.85        63\n",
      "           1       0.67      0.73      0.70        30\n",
      "\n",
      "    accuracy                           0.80        93\n",
      "   macro avg       0.77      0.78      0.77        93\n",
      "weighted avg       0.80      0.80      0.80        93\n",
      "\n",
      "Best Parameters:  {'class__criterion': 'entropy', 'class__max_depth': 8, 'class__min_samples_leaf': 2, 'class__n_estimators': 4}\n"
     ]
    }
   ],
   "source": [
    "param_grid = {\n",
    "    'class__n_estimators': [1, 2, 4, 8, 16, 32, 64, 100, 200],\n",
    "    'class__max_depth': range(1, 32, 1),\n",
    "    'class__min_samples_leaf': [1, 2, 3, 4, 5],\n",
    "    'class__criterion': ['gini', 'entropy']\n",
    "}\n",
    "\n",
    "# Perform GridSearch on parameter grid\n",
    "RF_all_scores = gridSearchCV(RandomForestClassifier(random_state=42),\n",
    "                             param_grid, X_train, X_test, y_train, y_test,\n",
    "                             score_sum)\n",
    "\n",
    "# Add the scores to summary\n",
    "score_sum = score_sum.append(RF_all_scores)"
   ]
  },
  {
   "cell_type": "markdown",
   "metadata": {},
   "source": [
    "## KNEIGHBORS CLASSIFIER"
   ]
  },
  {
   "cell_type": "markdown",
   "metadata": {},
   "source": [
    "#### Base Measure without tuning"
   ]
  },
  {
   "cell_type": "code",
   "execution_count": 20,
   "metadata": {
    "ExecuteTime": {
     "end_time": "2021-03-23T16:14:31.892748Z",
     "start_time": "2021-03-23T16:14:22.024747Z"
    }
   },
   "outputs": [
    {
     "name": "stdout",
     "output_type": "stream",
     "text": [
      "\n",
      "\n",
      "\n",
      " SMOTE-TL\n",
      "area under curve (auc):  0.8417989417989418\n"
     ]
    },
    {
     "data": {
      "image/png": "[encoded data removed]",
      "text/plain": [
       "<Figure size 432x288 with 1 Axes>"
      ]
     },
     "metadata": {
      "needs_background": "light"
     },
     "output_type": "display_data"
    },
    {
     "data": {
      "image/png": "[encoded data removed]",
      "text/plain": [
       "<Figure size 432x288 with 1 Axes>"
      ]
     },
     "metadata": {
      "needs_background": "light"
     },
     "output_type": "display_data"
    },
    {
     "name": "stdout",
     "output_type": "stream",
     "text": [
      "              precision    recall  f1-score   support\n",
      "\n",
      "           0       0.89      0.86      0.87        63\n",
      "           1       0.72      0.77      0.74        30\n",
      "\n",
      "    accuracy                           0.83        93\n",
      "   macro avg       0.80      0.81      0.81        93\n",
      "weighted avg       0.83      0.83      0.83        93\n",
      "\n",
      "Best Parameters:  {'class__algorithm': 'auto', 'class__leaf_size': 1, 'class__n_neighbors': 2, 'class__p': 1, 'class__weights': 'uniform'}\n",
      "\n",
      "\n",
      "\n",
      " ADASYN\n",
      "area under curve (auc):  0.8526455026455027\n"
     ]
    },
    {
     "data": {
      "image/png": "[encoded data removed]",
      "text/plain": [
       "<Figure size 432x288 with 1 Axes>"
      ]
     },
     "metadata": {
      "needs_background": "light"
     },
     "output_type": "display_data"
    },
    {
     "data": {
      "image/png": "[encoded data removed]",
      "text/plain": [
       "<Figure size 432x288 with 1 Axes>"
      ]
     },
     "metadata": {
      "needs_background": "light"
     },
     "output_type": "display_data"
    },
    {
     "name": "stdout",
     "output_type": "stream",
     "text": [
      "              precision    recall  f1-score   support\n",
      "\n",
      "           0       0.87      0.87      0.87        63\n",
      "           1       0.73      0.73      0.73        30\n",
      "\n",
      "    accuracy                           0.83        93\n",
      "   macro avg       0.80      0.80      0.80        93\n",
      "weighted avg       0.83      0.83      0.83        93\n",
      "\n",
      "Best Parameters:  {'class__algorithm': 'auto', 'class__leaf_size': 1, 'class__n_neighbors': 2, 'class__p': 2, 'class__weights': 'uniform'}\n"
     ]
    }
   ],
   "source": [
    "param_grid = {\n",
    "    'class__algorithm': ['auto'],\n",
    "    'class__leaf_size': [1, 5, 10, 15, 20, 25, 30],\n",
    "    'class__n_neighbors': [1, 2, 3, 4, 5, 6, 7, 8],\n",
    "    'class__p': [1, 2],\n",
    "    'class__weights': ['uniform', 'distance']\n",
    "}\n",
    "\n",
    "# Perform GridSearch on parameter grid\n",
    "KN_all_scores = gridSearchCV(KNeighborsClassifier(), param_grid, X_train,\n",
    "                             X_test, y_train, y_test, score_sum)\n",
    "\n",
    "# Add the scores to summary\n",
    "score_sum = score_sum.append(KN_all_scores)"
   ]
  },
  {
   "cell_type": "markdown",
   "metadata": {},
   "source": [
    "### Gaussian Naive Bayes"
   ]
  },
  {
   "cell_type": "code",
   "execution_count": 21,
   "metadata": {
    "ExecuteTime": {
     "end_time": "2021-03-23T16:14:32.494573Z",
     "start_time": "2021-03-23T16:14:31.894169Z"
    }
   },
   "outputs": [
    {
     "name": "stdout",
     "output_type": "stream",
     "text": [
      "\n",
      "\n",
      "\n",
      " SMOTE-TL\n",
      "area under curve (auc):  0.8915343915343916\n"
     ]
    },
    {
     "data": {
      "image/png": "[encoded data removed]",
      "text/plain": [
       "<Figure size 432x288 with 1 Axes>"
      ]
     },
     "metadata": {
      "needs_background": "light"
     },
     "output_type": "display_data"
    },
    {
     "data": {
      "image/png": "[encoded data removed]",
      "text/plain": [
       "<Figure size 432x288 with 1 Axes>"
      ]
     },
     "metadata": {
      "needs_background": "light"
     },
     "output_type": "display_data"
    },
    {
     "name": "stdout",
     "output_type": "stream",
     "text": [
      "              precision    recall  f1-score   support\n",
      "\n",
      "           0       0.89      0.81      0.85        63\n",
      "           1       0.67      0.80      0.73        30\n",
      "\n",
      "    accuracy                           0.81        93\n",
      "   macro avg       0.78      0.80      0.79        93\n",
      "weighted avg       0.82      0.81      0.81        93\n",
      "\n",
      "Best Parameters:  {'class__var_smoothing': 1e-09}\n",
      "\n",
      "\n",
      "\n",
      " ADASYN\n",
      "area under curve (auc):  0.8629629629629629\n"
     ]
    },
    {
     "data": {
      "image/png": "[encoded data removed]",
      "text/plain": [
       "<Figure size 432x288 with 1 Axes>"
      ]
     },
     "metadata": {
      "needs_background": "light"
     },
     "output_type": "display_data"
    },
    {
     "data": {
      "image/png": "[encoded data removed]",
      "text/plain": [
       "<Figure size 432x288 with 1 Axes>"
      ]
     },
     "metadata": {
      "needs_background": "light"
     },
     "output_type": "display_data"
    },
    {
     "name": "stdout",
     "output_type": "stream",
     "text": [
      "              precision    recall  f1-score   support\n",
      "\n",
      "           0       0.91      0.79      0.85        63\n",
      "           1       0.66      0.83      0.74        30\n",
      "\n",
      "    accuracy                           0.81        93\n",
      "   macro avg       0.78      0.81      0.79        93\n",
      "weighted avg       0.83      0.81      0.81        93\n",
      "\n",
      "Best Parameters:  {'class__var_smoothing': 1e-09}\n"
     ]
    },
    {
     "data": {
      "text/html": [
       "<div>\n",
       "<style scoped>\n",
       "    .dataframe tbody tr th:only-of-type {\n",
       "        vertical-align: middle;\n",
       "    }\n",
       "\n",
       "    .dataframe tbody tr th {\n",
       "        vertical-align: top;\n",
       "    }\n",
       "\n",
       "    .dataframe thead th {\n",
       "        text-align: right;\n",
       "    }\n",
       "</style>\n",
       "<table border=\"1\" class=\"dataframe\">\n",
       "  <thead>\n",
       "    <tr style=\"text-align: right;\">\n",
       "      <th></th>\n",
       "      <th>Model</th>\n",
       "      <th>Method</th>\n",
       "      <th>Score</th>\n",
       "    </tr>\n",
       "  </thead>\n",
       "  <tbody>\n",
       "    <tr>\n",
       "      <th>0</th>\n",
       "      <td>LogisticRegression(random_state=42)</td>\n",
       "      <td>SMOTE-TL</td>\n",
       "      <td>0.913978</td>\n",
       "    </tr>\n",
       "    <tr>\n",
       "      <th>1</th>\n",
       "      <td>LogisticRegression(random_state=42)</td>\n",
       "      <td>ADASYN</td>\n",
       "      <td>0.892473</td>\n",
       "    </tr>\n",
       "    <tr>\n",
       "      <th>0</th>\n",
       "      <td>GradientBoostingClassifier(random_state=42)</td>\n",
       "      <td>SMOTE-TL</td>\n",
       "      <td>0.849462</td>\n",
       "    </tr>\n",
       "    <tr>\n",
       "      <th>1</th>\n",
       "      <td>GradientBoostingClassifier(random_state=42)</td>\n",
       "      <td>ADASYN</td>\n",
       "      <td>0.795699</td>\n",
       "    </tr>\n",
       "    <tr>\n",
       "      <th>0</th>\n",
       "      <td>GradientBoostingClassifier(random_state=42)</td>\n",
       "      <td>SMOTE-TL</td>\n",
       "      <td>0.849462</td>\n",
       "    </tr>\n",
       "    <tr>\n",
       "      <th>1</th>\n",
       "      <td>GradientBoostingClassifier(random_state=42)</td>\n",
       "      <td>ADASYN</td>\n",
       "      <td>0.795699</td>\n",
       "    </tr>\n",
       "    <tr>\n",
       "      <th>0</th>\n",
       "      <td>SVC(random_state=42)</td>\n",
       "      <td>SMOTE-TL</td>\n",
       "      <td>0.881720</td>\n",
       "    </tr>\n",
       "    <tr>\n",
       "      <th>1</th>\n",
       "      <td>SVC(random_state=42)</td>\n",
       "      <td>ADASYN</td>\n",
       "      <td>0.838710</td>\n",
       "    </tr>\n",
       "    <tr>\n",
       "      <th>0</th>\n",
       "      <td>RandomForestClassifier(random_state=42)</td>\n",
       "      <td>SMOTE-TL</td>\n",
       "      <td>0.784946</td>\n",
       "    </tr>\n",
       "    <tr>\n",
       "      <th>1</th>\n",
       "      <td>RandomForestClassifier(random_state=42)</td>\n",
       "      <td>ADASYN</td>\n",
       "      <td>0.795699</td>\n",
       "    </tr>\n",
       "    <tr>\n",
       "      <th>0</th>\n",
       "      <td>KNeighborsClassifier()</td>\n",
       "      <td>SMOTE-TL</td>\n",
       "      <td>0.827957</td>\n",
       "    </tr>\n",
       "    <tr>\n",
       "      <th>1</th>\n",
       "      <td>KNeighborsClassifier()</td>\n",
       "      <td>ADASYN</td>\n",
       "      <td>0.827957</td>\n",
       "    </tr>\n",
       "    <tr>\n",
       "      <th>0</th>\n",
       "      <td>GaussianNB()</td>\n",
       "      <td>SMOTE-TL</td>\n",
       "      <td>0.806452</td>\n",
       "    </tr>\n",
       "    <tr>\n",
       "      <th>1</th>\n",
       "      <td>GaussianNB()</td>\n",
       "      <td>ADASYN</td>\n",
       "      <td>0.806452</td>\n",
       "    </tr>\n",
       "  </tbody>\n",
       "</table>\n",
       "</div>"
      ],
      "text/plain": [
       "                                         Model    Method     Score\n",
       "0          LogisticRegression(random_state=42)  SMOTE-TL  0.913978\n",
       "1          LogisticRegression(random_state=42)    ADASYN  0.892473\n",
       "0  GradientBoostingClassifier(random_state=42)  SMOTE-TL  0.849462\n",
       "1  GradientBoostingClassifier(random_state=42)    ADASYN  0.795699\n",
       "0  GradientBoostingClassifier(random_state=42)  SMOTE-TL  0.849462\n",
       "1  GradientBoostingClassifier(random_state=42)    ADASYN  0.795699\n",
       "0                         SVC(random_state=42)  SMOTE-TL  0.881720\n",
       "1                         SVC(random_state=42)    ADASYN  0.838710\n",
       "0      RandomForestClassifier(random_state=42)  SMOTE-TL  0.784946\n",
       "1      RandomForestClassifier(random_state=42)    ADASYN  0.795699\n",
       "0                       KNeighborsClassifier()  SMOTE-TL  0.827957\n",
       "1                       KNeighborsClassifier()    ADASYN  0.827957\n",
       "0                                 GaussianNB()  SMOTE-TL  0.806452\n",
       "1                                 GaussianNB()    ADASYN  0.806452"
      ]
     },
     "execution_count": 21,
     "metadata": {},
     "output_type": "execute_result"
    }
   ],
   "source": [
    "param_grid = {'class__var_smoothing': [1e-1, 1e-9, 1e-19, 1e-29]}\n",
    "\n",
    "# Perform GridSearch on parameter grid\n",
    "GB_all_scores = gridSearchCV(GaussianNB(priors=None, ), param_grid, X_train,\n",
    "                             X_test, y_train, y_test, score_sum)\n",
    "\n",
    "# Add the scores to summary\n",
    "score_sum.append(GB_all_scores)"
   ]
  },
  {
   "cell_type": "code",
   "execution_count": 22,
   "metadata": {
    "ExecuteTime": {
     "end_time": "2021-03-23T16:14:32.505887Z",
     "start_time": "2021-03-23T16:14:32.496743Z"
    }
   },
   "outputs": [
    {
     "name": "stdout",
     "output_type": "stream",
     "text": [
      "                                         Model    Method     Score\n",
      "0          LogisticRegression(random_state=42)  SMOTE-TL  0.913978\n",
      "1          LogisticRegression(random_state=42)    ADASYN  0.892473\n",
      "0                         SVC(random_state=42)  SMOTE-TL  0.881720\n",
      "0  GradientBoostingClassifier(random_state=42)  SMOTE-TL  0.849462\n",
      "0  GradientBoostingClassifier(random_state=42)  SMOTE-TL  0.849462\n",
      "1                         SVC(random_state=42)    ADASYN  0.838710\n",
      "0                       KNeighborsClassifier()  SMOTE-TL  0.827957\n",
      "1                       KNeighborsClassifier()    ADASYN  0.827957\n",
      "1  GradientBoostingClassifier(random_state=42)    ADASYN  0.795699\n",
      "1  GradientBoostingClassifier(random_state=42)    ADASYN  0.795699\n",
      "1      RandomForestClassifier(random_state=42)    ADASYN  0.795699\n",
      "0      RandomForestClassifier(random_state=42)  SMOTE-TL  0.784946\n"
     ]
    }
   ],
   "source": [
    "# Accuracy Scores Summary\n",
    "print(score_sum.sort_values(by=\"Score\", ascending = False))"
   ]
  },
  {
   "cell_type": "markdown",
   "metadata": {},
   "source": [
    "### Results\n",
    "\n",
    "#### Summary\n",
    "\n",
    "Six well-known classification models were tested using 70% of the data to train and 30% to test.  A large range of potential hyper parameter settings were tested for each model,  determining the best settings for this project.  Each model was selected due to it's usefulness in classification problems and it's differences in algorithmic process compared to the remaining models.  \n",
    "\n",
    "#### Models\n",
    "When comparing results, this algorithmic process was taken into account, given the nature of the data.  Three models performed similarly with the Logistic Regression performing 5% higher than the Gradient Boosting and Support Vector Machine.   The linear nature of the Logistic Regression is not as reliable when dealing with extreme, sparse, values making the remaining 2 algorithms a good first choice.  The Gradient Boosting algorithm is extremely slow on just 309 samples and may be undesirable with large amounts of data, depending on the hardware used.  The Support Vector Machine, similar to Logistic Regression in accuracy with a 3% difference, would provide the flexible boundaries needed to absorb infrequent extremes without dragging the center population down in precision.  \n",
    "\n",
    "#### Upsampling & Imbalanced Data\n",
    "The nature of this project expects the data to be continuously imbalanced.  The technique of handling these is therefore important to test and select based on the sensitivity needs, number of false negatives compared to false positives and the cost associated.\n",
    "\n",
    "Using the ADASYN upsampling method:\n",
    "Out of 100 samples, 10 will be false positive ( Abnormal ), and 0 will be false negative ( Normal )\n",
    "\n",
    "Using SMOTE-TL:\n",
    "Out of 100 samples, 7 will be false positive ( Abnormal ) and 1 will be false negative ( Normal )\n",
    "\n",
    "\n",
    "#### Recommendation\n",
    "\n",
    "I recommend Support Vector Machine with either ADASYN or SMOTE-TL method for upsampling.  The choice between these two methods depends on the sensitivity requirements for false negatives and positives.\n",
    "\n",
    "Using ADASYN it can be expected to have rarely, if ever,  false negative results, there will however be 3 more false positive contained in every 100 samples.\n",
    "\n",
    "My past experience in healthcare research leads me to lean toward ADASYN and avoid false negatives.  However, 10 out of 100 false positives could reduce confidence in results and lead to additional costs in follow-up testing.  This decision betweenn the 2 sampling methods would require feedback from decision makers.\n",
    "\n",
    "\n",
    "### Future Development\n",
    "\n",
    "Future improvements:\n",
    "- Test several stacking methods to search for improved accuracy - this would provide additional layers of testing results to verify.\n",
    "\n",
    "- Test and train on more data, 309 samples is not bad to start but much more would be needed to validate results condidently.\n",
    "\n",
    "- Create unique splits to data prior to train-test split to test sparse data processing for small radiology departments with fewer results to run."
   ]
  },
  {
   "cell_type": "code",
   "execution_count": null,
   "metadata": {},
   "outputs": [],
   "source": []
  }
 ],
 "metadata": {
  "kernelspec": {
   "display_name": "Python 3",
   "language": "python",
   "name": "python3"
  },
  "language_info": {
   "codemirror_mode": {
    "name": "ipython",
    "version": 3
   },
   "file_extension": ".py",
   "mimetype": "text/x-python",
   "name": "python",
   "nbconvert_exporter": "python",
   "pygments_lexer": "ipython3",
   "version": "3.8.5"
  },
  "toc": {
   "base_numbering": 1,
   "nav_menu": {},
   "number_sections": false,
   "sideBar": true,
   "skip_h1_title": false,
   "title_cell": "Table of Contents",
   "title_sidebar": "Contents",
   "toc_cell": false,
   "toc_position": {
    "height": "calc(100% - 180px)",
    "left": "200px",
    "top": "150px",
    "width": "165px"
   },
   "toc_section_display": true,
   "toc_window_display": true
  }
 },
 "nbformat": 4,
 "nbformat_minor": 4
}
